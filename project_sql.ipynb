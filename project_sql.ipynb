{
  "nbformat": 4,
  "nbformat_minor": 0,
  "metadata": {
    "colab": {
      "name": "project_sql.ipynb",
      "provenance": [],
      "collapsed_sections": []
    },
    "kernelspec": {
      "name": "python3",
      "display_name": "Python 3"
    }
  },
  "cells": [
    {
      "cell_type": "code",
      "metadata": {
        "id": "Zn_vSBlyJiWL",
        "colab_type": "code",
        "colab": {}
      },
      "source": [
        "import sqlite3\n",
        "\n"
      ],
      "execution_count": 0,
      "outputs": []
    },
    {
      "cell_type": "code",
      "metadata": {
        "id": "_nwxvPi9Js6g",
        "colab_type": "code",
        "colab": {}
      },
      "source": [
        "conn = sqlite3.connect('hospitals.db')\n",
        "cursor = conn.cursor()"
      ],
      "execution_count": 0,
      "outputs": []
    },
    {
      "cell_type": "code",
      "metadata": {
        "id": "h1L0SjMZLnw8",
        "colab_type": "code",
        "colab": {
          "base_uri": "https://localhost:8080/",
          "height": 300
        },
        "outputId": "1cddb5d4-c6dc-410c-f7d8-9b2b05347cd6"
      },
      "source": [
        "cursor.execute (\"\"\"CREATE TABLE \"area_hospitals\"\n",
        "(\"Hospital Name\" \"varchar\",\n",
        " \"facility Id\" \"number(6)\",\n",
        " \"zip_code\" \"number(5)\",\n",
        " \"dig 1\" \"number(3)\",\n",
        " \"dig 2\" \"number(3)\",\n",
        " \"dig 3\" \"number(3)\",\n",
        " \"dig 4\" \"number(3)\");\"\"\")\n",
        "\n",
        "cursor.fetchall()"
      ],
      "execution_count": 32,
      "outputs": [
        {
          "output_type": "stream",
          "text": [
            "ERROR:root:An unexpected error occurred while tokenizing input\n",
            "The following traceback may be corrupted or invalid\n",
            "The error message is: ('EOF in multi-line string', (1, 22))\n",
            "\n"
          ],
          "name": "stderr"
        },
        {
          "output_type": "error",
          "ename": "OperationalError",
          "evalue": "ignored",
          "traceback": [
            "\u001b[0;31m---------------------------------------------------------------------------\u001b[0m",
            "\u001b[0;31mOperationalError\u001b[0m                          Traceback (most recent call last)",
            "\u001b[0;32m<ipython-input-32-ec988e0839b6>\u001b[0m in \u001b[0;36m<module>\u001b[0;34m()\u001b[0m\n\u001b[1;32m      6\u001b[0m  \u001b[0;34m\"dig 2\"\u001b[0m \u001b[0;34m\"number(3)\"\u001b[0m\u001b[0;34m,\u001b[0m\u001b[0;34m\u001b[0m\u001b[0;34m\u001b[0m\u001b[0m\n\u001b[1;32m      7\u001b[0m  \u001b[0;34m\"dig 3\"\u001b[0m \u001b[0;34m\"number(3)\"\u001b[0m\u001b[0;34m,\u001b[0m\u001b[0;34m\u001b[0m\u001b[0;34m\u001b[0m\u001b[0m\n\u001b[0;32m----> 8\u001b[0;31m  \"dig 4\" \"number(3)\");\"\"\")\n\u001b[0m\u001b[1;32m      9\u001b[0m \u001b[0;34m\u001b[0m\u001b[0m\n\u001b[1;32m     10\u001b[0m \u001b[0mcursor\u001b[0m\u001b[0;34m.\u001b[0m\u001b[0mfetchall\u001b[0m\u001b[0;34m(\u001b[0m\u001b[0;34m)\u001b[0m\u001b[0;34m\u001b[0m\u001b[0;34m\u001b[0m\u001b[0m\n",
            "\u001b[0;31mOperationalError\u001b[0m: table \"area_hospitals\" already exists"
          ]
        }
      ]
    },
    {
      "cell_type": "code",
      "metadata": {
        "id": "MTP5RRUXZ0VF",
        "colab_type": "code",
        "colab": {}
      },
      "source": [
        ""
      ],
      "execution_count": 0,
      "outputs": []
    },
    {
      "cell_type": "code",
      "metadata": {
        "id": "lvNcE_V2V732",
        "colab_type": "code",
        "colab": {
          "base_uri": "https://localhost:8080/",
          "height": 130
        },
        "outputId": "cb9bd6d7-3e25-49fd-e1a1-ff6fe11a11a7"
      },
      "source": [
        "cursor.execute( update \"area_hospitals\" set \"facility Id\" \"number(6)\");\n",
        "cursor.fetchall()"
      ],
      "execution_count": 31,
      "outputs": [
        {
          "output_type": "error",
          "ename": "SyntaxError",
          "evalue": "ignored",
          "traceback": [
            "\u001b[0;36m  File \u001b[0;32m\"<ipython-input-31-3456683b01bf>\"\u001b[0;36m, line \u001b[0;32m1\u001b[0m\n\u001b[0;31m    cursor.execute( update \"area_hospitals\" set \"facility Id\" \"number(6)\");\u001b[0m\n\u001b[0m                                          ^\u001b[0m\n\u001b[0;31mSyntaxError\u001b[0m\u001b[0;31m:\u001b[0m invalid syntax\n"
          ]
        }
      ]
    },
    {
      "cell_type": "code",
      "metadata": {
        "id": "Z6yYpWChLoEo",
        "colab_type": "code",
        "colab": {
          "base_uri": "https://localhost:8080/",
          "height": 283
        },
        "outputId": "d7c82a1c-525f-4c75-8859-a6516a2339d2"
      },
      "source": [
        "cursor.execute (\"\"\"insert into \"area_hositals\"\n",
        "(Hospital Name, facility Id, zip_code, dig 1, dig 2, dig 3, dig 4)\n",
        "values('NewYork-Presbyterian/Lawrence Hospital', '001122', '10605', '218', '127', '2', '123', '193')\n",
        "('Montefiore New Rochelle Hospital','001072', '10801', '218', '69', '49', '14', '99')\n",
        "('St Johns Riverside Hospital', '001097', '10701', '2018', '2', '99', '127', '106');\"\"\")\n",
        "cursor.fetchall()"
      ],
      "execution_count": 29,
      "outputs": [
        {
          "output_type": "stream",
          "text": [
            "ERROR:root:An unexpected error occurred while tokenizing input\n",
            "The following traceback may be corrupted or invalid\n",
            "The error message is: ('EOF in multi-line string', (1, 84))\n",
            "\n"
          ],
          "name": "stderr"
        },
        {
          "output_type": "error",
          "ename": "OperationalError",
          "evalue": "ignored",
          "traceback": [
            "\u001b[0;31m---------------------------------------------------------------------------\u001b[0m",
            "\u001b[0;31mOperationalError\u001b[0m                          Traceback (most recent call last)",
            "\u001b[0;32m<ipython-input-29-6f957a462b06>\u001b[0m in \u001b[0;36m<module>\u001b[0;34m()\u001b[0m\n\u001b[1;32m      3\u001b[0m \u001b[0mvalues\u001b[0m\u001b[0;34m(\u001b[0m\u001b[0;34m'NewYork-Presbyterian/Lawrence Hospital'\u001b[0m\u001b[0;34m,\u001b[0m \u001b[0;34m'001122'\u001b[0m\u001b[0;34m,\u001b[0m \u001b[0;34m'10605'\u001b[0m\u001b[0;34m,\u001b[0m \u001b[0;34m'218'\u001b[0m\u001b[0;34m,\u001b[0m \u001b[0;34m'127'\u001b[0m\u001b[0;34m,\u001b[0m \u001b[0;34m'2'\u001b[0m\u001b[0;34m,\u001b[0m \u001b[0;34m'123'\u001b[0m\u001b[0;34m,\u001b[0m \u001b[0;34m'193'\u001b[0m\u001b[0;34m)\u001b[0m\u001b[0;34m\u001b[0m\u001b[0;34m\u001b[0m\u001b[0m\n\u001b[1;32m      4\u001b[0m \u001b[0;34m(\u001b[0m\u001b[0;34m'Montefiore New Rochelle Hospital'\u001b[0m\u001b[0;34m,\u001b[0m\u001b[0;34m'001072'\u001b[0m\u001b[0;34m,\u001b[0m \u001b[0;34m'10801'\u001b[0m\u001b[0;34m,\u001b[0m \u001b[0;34m'218'\u001b[0m\u001b[0;34m,\u001b[0m \u001b[0;34m'69'\u001b[0m\u001b[0;34m,\u001b[0m \u001b[0;34m'49'\u001b[0m\u001b[0;34m,\u001b[0m \u001b[0;34m'14'\u001b[0m\u001b[0;34m,\u001b[0m \u001b[0;34m'99'\u001b[0m\u001b[0;34m)\u001b[0m\u001b[0;34m\u001b[0m\u001b[0;34m\u001b[0m\u001b[0m\n\u001b[0;32m----> 5\u001b[0;31m ('St Johns Riverside Hospital', '001097', '10701', '2018', '2', '99', '127', '106');\"\"\")\n\u001b[0m\u001b[1;32m      6\u001b[0m \u001b[0mcursor\u001b[0m\u001b[0;34m.\u001b[0m\u001b[0mfetchall\u001b[0m\u001b[0;34m(\u001b[0m\u001b[0;34m)\u001b[0m\u001b[0;34m\u001b[0m\u001b[0;34m\u001b[0m\u001b[0m\n",
            "\u001b[0;31mOperationalError\u001b[0m: near \"Name\": syntax error"
          ]
        }
      ]
    },
    {
      "cell_type": "code",
      "metadata": {
        "id": "UXva55cJLoQi",
        "colab_type": "code",
        "colab": {}
      },
      "source": [
        ""
      ],
      "execution_count": 0,
      "outputs": []
    }
  ]
}