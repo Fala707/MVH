{
  "nbformat": 4,
  "nbformat_minor": 0,
  "metadata": {
    "colab": {
      "name": "all_hospitals.ipynb",
      "provenance": [],
      "collapsed_sections": []
    },
    "kernelspec": {
      "name": "python3",
      "display_name": "Python 3"
    }
  },
  "cells": [
    {
      "cell_type": "code",
      "metadata": {
        "id": "nMH9ax0Cp4zA",
        "colab_type": "code",
        "colab": {}
      },
      "source": [
        "import pandas as pd\n",
        "Param_MVH = \"Montefiore%20Mount%20Vernon%20Hospital\"\n",
        "param_Lawrance = \"New%20York-Presbyterian/Lawrence%20Hospital\"\n",
        "param_New_Rochelle = \"Montefiore%20New%20Rochelle%20Hospital\"\n",
        "param_SJRH = \"SJRH%20-%20St%20Johns%20Division\"\n",
        "param_white_plains = \"White%20Plains%20Hospital%20Center\"\n",
        "param_Montefiore_Moses = \"Montefiore%20Medical%20Center-Henry%20&%20Lucy%20Moses%20Div\"\n",
        "param_WMC =\"Westchester%20Medical%20Center\"\n",
        "param_Phelps= \"Phelps%20Memorial%20Hospital%20Assn\"\n",
        "Param_Montefiore_wakefield = \"Montefiore%20Medical%20Center-Wakefield%20Hospital\"\n",
        "url = \"https://health.data.ny.gov/resource/22g3-z7e7.json?facility_name=\"\n",
        "df=pd.read_json(url+param_Lawrance)\n",
        "records =df.to_dict('records')"
      ],
      "execution_count": 0,
      "outputs": []
    },
    {
      "cell_type": "code",
      "metadata": {
        "id": "S3J8REg7qj0P",
        "colab_type": "code",
        "colab": {}
      },
      "source": [
        "Lawrance = df"
      ],
      "execution_count": 0,
      "outputs": []
    },
    {
      "cell_type": "code",
      "metadata": {
        "id": "vNP5Z6SvAom-",
        "colab_type": "code",
        "colab": {}
      },
      "source": [
        "Lawrance"
      ],
      "execution_count": 0,
      "outputs": []
    },
    {
      "cell_type": "code",
      "metadata": {
        "id": "n4twrXxIq_Vq",
        "colab_type": "code",
        "colab": {}
      },
      "source": [
        "diagnostic_codes = [ record['ccs_diagnosis_code'] for record in records ]"
      ],
      "execution_count": 0,
      "outputs": []
    },
    {
      "cell_type": "code",
      "metadata": {
        "id": "q1MVDEISq_jL",
        "colab_type": "code",
        "colab": {}
      },
      "source": [
        "from collections import Counter\n",
        "\n",
        "  "
      ],
      "execution_count": 0,
      "outputs": []
    },
    {
      "cell_type": "code",
      "metadata": {
        "id": "-TVCqRO1tvgO",
        "colab_type": "code",
        "colab": {}
      },
      "source": [
        "diagnostic_histogram = Counter(diagnostic_codes)\n",
        "diagnostic_histogram\n"
      ],
      "execution_count": 0,
      "outputs": []
    },
    {
      "cell_type": "code",
      "metadata": {
        "id": "M3kp81tip9kq",
        "colab_type": "code",
        "colab": {}
      },
      "source": [
        "\n"
      ],
      "execution_count": 0,
      "outputs": []
    },
    {
      "cell_type": "code",
      "metadata": {
        "id": "8sUPwnQiqOZO",
        "colab_type": "code",
        "colab": {}
      },
      "source": [
        "from collections import Counter"
      ],
      "execution_count": 0,
      "outputs": []
    },
    {
      "cell_type": "code",
      "metadata": {
        "id": "Z7xaofV2qTcr",
        "colab_type": "code",
        "colab": {}
      },
      "source": [
        "diagnostic_histogram = Counter(all_diagnostic_codes)\n",
        "diagnostic_histogram"
      ],
      "execution_count": 0,
      "outputs": []
    },
    {
      "cell_type": "code",
      "metadata": {
        "id": "KdzvSCnCCt0V",
        "colab_type": "code",
        "colab": {}
      },
      "source": [
        "url = \"https://health.data.ny.gov/resource/22g3-z7e7.json?facility_name=\"\n",
        "df=pd.read_json(url+param_New_Rochelle)\n",
        "records =df.to_dict('records')"
      ],
      "execution_count": 0,
      "outputs": []
    },
    {
      "cell_type": "code",
      "metadata": {
        "id": "5Nxdy-0aCuBX",
        "colab_type": "code",
        "colab": {}
      },
      "source": [
        "New_rochelle = df"
      ],
      "execution_count": 0,
      "outputs": []
    },
    {
      "cell_type": "code",
      "metadata": {
        "id": "o2SXUii3CuLq",
        "colab_type": "code",
        "colab": {}
      },
      "source": [
        "diagnostic_codes = [ record['ccs_diagnosis_code'] for record in records ]\n"
      ],
      "execution_count": 0,
      "outputs": []
    },
    {
      "cell_type": "code",
      "metadata": {
        "id": "ObObndiMF6Mk",
        "colab_type": "code",
        "colab": {}
      },
      "source": [
        "diagnostic_histogram = Counter(diagnostic_codes)\n",
        "diagnostic_histogram"
      ],
      "execution_count": 0,
      "outputs": []
    },
    {
      "cell_type": "code",
      "metadata": {
        "id": "phw5S-enHe7J",
        "colab_type": "code",
        "colab": {}
      },
      "source": [
        "url = \"https://health.data.ny.gov/resource/22g3-z7e7.json?facility_name=\"\n",
        "df=pd.read_json(url+param_SJRH)\n",
        "records =df.to_dict('records')"
      ],
      "execution_count": 0,
      "outputs": []
    },
    {
      "cell_type": "code",
      "metadata": {
        "id": "stAczYXBHzL3",
        "colab_type": "code",
        "colab": {}
      },
      "source": [
        "SJRH = df"
      ],
      "execution_count": 0,
      "outputs": []
    },
    {
      "cell_type": "code",
      "metadata": {
        "id": "Et-8ZagIIEdS",
        "colab_type": "code",
        "colab": {}
      },
      "source": [
        "diagnostic_codes = [ record['ccs_diagnosis_code'] for record in records ]\n"
      ],
      "execution_count": 0,
      "outputs": []
    },
    {
      "cell_type": "code",
      "metadata": {
        "id": "skgUe7TeINDy",
        "colab_type": "code",
        "colab": {}
      },
      "source": [
        "diagnostic_histogram = Counter(diagnostic_codes)\n",
        "diagnostic_histogram"
      ],
      "execution_count": 0,
      "outputs": []
    },
    {
      "cell_type": "code",
      "metadata": {
        "id": "YVgqIqlIpzNS",
        "colab_type": "code",
        "colab": {}
      },
      "source": [
        "url = \"https://health.data.ny.gov/resource/22g3-z7e7.json?facility_name=\"\n",
        "df=pd.read_json(url+param_white_plains)\n",
        "records =df.to_dict('records')"
      ],
      "execution_count": 0,
      "outputs": []
    },
    {
      "cell_type": "code",
      "metadata": {
        "id": "c1lHUc-Kp8Ho",
        "colab_type": "code",
        "colab": {}
      },
      "source": [
        "White_Plains = df"
      ],
      "execution_count": 0,
      "outputs": []
    },
    {
      "cell_type": "code",
      "metadata": {
        "id": "PSJuw9XnqECV",
        "colab_type": "code",
        "colab": {}
      },
      "source": [
        "diagnostic_codes = [ record['ccs_diagnosis_code'] for record in records ]\n"
      ],
      "execution_count": 0,
      "outputs": []
    },
    {
      "cell_type": "code",
      "metadata": {
        "id": "g0b2-Wy4qJv6",
        "colab_type": "code",
        "colab": {}
      },
      "source": [
        "diagnostic_histogram = Counter(diagnostic_codes)\n",
        "diagnostic_histogram"
      ],
      "execution_count": 0,
      "outputs": []
    },
    {
      "cell_type": "code",
      "metadata": {
        "id": "sVBJ74E6qJ__",
        "colab_type": "code",
        "colab": {}
      },
      "source": [
        ""
      ],
      "execution_count": 0,
      "outputs": []
    }
  ]
}