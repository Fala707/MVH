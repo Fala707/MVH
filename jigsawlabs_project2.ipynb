{
  "nbformat": 4,
  "nbformat_minor": 0,
  "metadata": {
    "colab": {
      "name": "jigsawlabs_project2.ipynb",
      "provenance": [],
      "collapsed_sections": []
    },
    "kernelspec": {
      "name": "python3",
      "display_name": "Python 3"
    }
  },
  "cells": [
    {
      "cell_type": "code",
      "metadata": {
        "id": "P1QnDANAoxMV",
        "colab_type": "code",
        "colab": {}
      },
      "source": [
        "import pandas as pd\n",
        "df=pd.read_json('https://health.data.ny.gov/resource/22g3-z7e7.json?facility_name=Montefiore%20Mount%20Vernon%20Hospital')\n",
        "records =df.to_dict('records')"
      ],
      "execution_count": 0,
      "outputs": []
    },
    {
      "cell_type": "code",
      "metadata": {
        "id": "u-moLWNBoyTu",
        "colab_type": "code",
        "outputId": "a534e6c8-8592-4d76-867c-b8976b016f51",
        "colab": {
          "base_uri": "https://localhost:8080/",
          "height": 736
        }
      },
      "source": [
        "df"
      ],
      "execution_count": 0,
      "outputs": [
        {
          "output_type": "execute_result",
          "data": {
            "text/html": [
              "<div>\n",
              "<style scoped>\n",
              "    .dataframe tbody tr th:only-of-type {\n",
              "        vertical-align: middle;\n",
              "    }\n",
              "\n",
              "    .dataframe tbody tr th {\n",
              "        vertical-align: top;\n",
              "    }\n",
              "\n",
              "    .dataframe thead th {\n",
              "        text-align: right;\n",
              "    }\n",
              "</style>\n",
              "<table border=\"1\" class=\"dataframe\">\n",
              "  <thead>\n",
              "    <tr style=\"text-align: right;\">\n",
              "      <th></th>\n",
              "      <th>hospital_service_area</th>\n",
              "      <th>hospital_county</th>\n",
              "      <th>operating_certificate_number</th>\n",
              "      <th>permanent_facility_id</th>\n",
              "      <th>facility_name</th>\n",
              "      <th>age_group</th>\n",
              "      <th>gender</th>\n",
              "      <th>race</th>\n",
              "      <th>ethnicity</th>\n",
              "      <th>length_of_stay</th>\n",
              "      <th>type_of_admission</th>\n",
              "      <th>patient_disposition</th>\n",
              "      <th>discharge_year</th>\n",
              "      <th>ccs_diagnosis_code</th>\n",
              "      <th>ccs_diagnosis_description</th>\n",
              "      <th>ccs_procedure_code</th>\n",
              "      <th>ccs_procedure_description</th>\n",
              "      <th>apr_drg_code</th>\n",
              "      <th>apr_drg_description</th>\n",
              "      <th>apr_mdc_code</th>\n",
              "      <th>apr_mdc_description</th>\n",
              "      <th>apr_severity_of_illness_code</th>\n",
              "      <th>apr_severity_of_illness</th>\n",
              "      <th>apr_risk_of_mortality</th>\n",
              "      <th>apr_medical_surgical</th>\n",
              "      <th>payment_typology_1</th>\n",
              "      <th>payment_typology_2</th>\n",
              "      <th>payment_typology_3</th>\n",
              "      <th>abortion_edit_indicator</th>\n",
              "      <th>emergency_department_indicator</th>\n",
              "      <th>total_charges</th>\n",
              "      <th>total_costs</th>\n",
              "      <th>zip_code_3_digits</th>\n",
              "    </tr>\n",
              "  </thead>\n",
              "  <tbody>\n",
              "    <tr>\n",
              "      <th>0</th>\n",
              "      <td>Hudson Valley</td>\n",
              "      <td>Westchester</td>\n",
              "      <td>5903001</td>\n",
              "      <td>1061</td>\n",
              "      <td>Montefiore Mount Vernon Hospital</td>\n",
              "      <td>30 to 49</td>\n",
              "      <td>M</td>\n",
              "      <td>White</td>\n",
              "      <td>Not Span/Hispanic</td>\n",
              "      <td>21</td>\n",
              "      <td>Elective</td>\n",
              "      <td>Home or Self Care</td>\n",
              "      <td>2017</td>\n",
              "      <td>659</td>\n",
              "      <td>Schizophrenia and other psychotic disorders</td>\n",
              "      <td>0</td>\n",
              "      <td>NO PROC</td>\n",
              "      <td>750</td>\n",
              "      <td>Schizophrenia</td>\n",
              "      <td>19</td>\n",
              "      <td>Mental Diseases and Disorders</td>\n",
              "      <td>2</td>\n",
              "      <td>Moderate</td>\n",
              "      <td>Minor</td>\n",
              "      <td>Medical</td>\n",
              "      <td>Medicare</td>\n",
              "      <td>Medicare</td>\n",
              "      <td>Self-Pay</td>\n",
              "      <td>N</td>\n",
              "      <td>N</td>\n",
              "      <td>114168.00</td>\n",
              "      <td>40464.04</td>\n",
              "      <td>NaN</td>\n",
              "    </tr>\n",
              "    <tr>\n",
              "      <th>1</th>\n",
              "      <td>Hudson Valley</td>\n",
              "      <td>Westchester</td>\n",
              "      <td>5903001</td>\n",
              "      <td>1061</td>\n",
              "      <td>Montefiore Mount Vernon Hospital</td>\n",
              "      <td>50 to 69</td>\n",
              "      <td>M</td>\n",
              "      <td>White</td>\n",
              "      <td>Spanish/Hispanic</td>\n",
              "      <td>8</td>\n",
              "      <td>Emergency</td>\n",
              "      <td>Skilled Nursing Home</td>\n",
              "      <td>2017</td>\n",
              "      <td>99</td>\n",
              "      <td>Hypertension with complications and secondary ...</td>\n",
              "      <td>108</td>\n",
              "      <td>INDWELLING CATHETER</td>\n",
              "      <td>194</td>\n",
              "      <td>Heart failure</td>\n",
              "      <td>5</td>\n",
              "      <td>Diseases and Disorders of the Circulatory System</td>\n",
              "      <td>3</td>\n",
              "      <td>Major</td>\n",
              "      <td>Moderate</td>\n",
              "      <td>Medical</td>\n",
              "      <td>Medicaid</td>\n",
              "      <td>Medicaid</td>\n",
              "      <td>Self-Pay</td>\n",
              "      <td>N</td>\n",
              "      <td>N</td>\n",
              "      <td>58517.00</td>\n",
              "      <td>26046.50</td>\n",
              "      <td>105</td>\n",
              "    </tr>\n",
              "    <tr>\n",
              "      <th>2</th>\n",
              "      <td>Hudson Valley</td>\n",
              "      <td>Westchester</td>\n",
              "      <td>5903001</td>\n",
              "      <td>1061</td>\n",
              "      <td>Montefiore Mount Vernon Hospital</td>\n",
              "      <td>30 to 49</td>\n",
              "      <td>F</td>\n",
              "      <td>White</td>\n",
              "      <td>Unknown</td>\n",
              "      <td>6</td>\n",
              "      <td>Emergency</td>\n",
              "      <td>Court/Law Enforcement</td>\n",
              "      <td>2017</td>\n",
              "      <td>161</td>\n",
              "      <td>Other diseases of kidney and ureters</td>\n",
              "      <td>102</td>\n",
              "      <td>URETERAL CATHETERIZATN</td>\n",
              "      <td>465</td>\n",
              "      <td>Urinary stones &amp; acquired upper urinary tract ...</td>\n",
              "      <td>11</td>\n",
              "      <td>Diseases and Disorders of the Kidney and Urina...</td>\n",
              "      <td>2</td>\n",
              "      <td>Moderate</td>\n",
              "      <td>Moderate</td>\n",
              "      <td>Medical</td>\n",
              "      <td>Department of Corrections</td>\n",
              "      <td>Self-Pay</td>\n",
              "      <td>NaN</td>\n",
              "      <td>N</td>\n",
              "      <td>N</td>\n",
              "      <td>39647.04</td>\n",
              "      <td>17397.59</td>\n",
              "      <td>105</td>\n",
              "    </tr>\n",
              "    <tr>\n",
              "      <th>3</th>\n",
              "      <td>Hudson Valley</td>\n",
              "      <td>Westchester</td>\n",
              "      <td>5903001</td>\n",
              "      <td>1061</td>\n",
              "      <td>Montefiore Mount Vernon Hospital</td>\n",
              "      <td>50 to 69</td>\n",
              "      <td>F</td>\n",
              "      <td>White</td>\n",
              "      <td>Not Span/Hispanic</td>\n",
              "      <td>4</td>\n",
              "      <td>Emergency</td>\n",
              "      <td>Skilled Nursing Home</td>\n",
              "      <td>2017</td>\n",
              "      <td>238</td>\n",
              "      <td>Complications of surgical procedures or medica...</td>\n",
              "      <td>222</td>\n",
              "      <td>BLOOD TRANSFUSION</td>\n",
              "      <td>721</td>\n",
              "      <td>Post-operative, post-traumatic, other device i...</td>\n",
              "      <td>18</td>\n",
              "      <td>Infectious and Parasitic Diseases, Systemic or...</td>\n",
              "      <td>2</td>\n",
              "      <td>Moderate</td>\n",
              "      <td>Moderate</td>\n",
              "      <td>Medical</td>\n",
              "      <td>Medicaid</td>\n",
              "      <td>Medicaid</td>\n",
              "      <td>Self-Pay</td>\n",
              "      <td>N</td>\n",
              "      <td>N</td>\n",
              "      <td>36031.09</td>\n",
              "      <td>16118.84</td>\n",
              "      <td>105</td>\n",
              "    </tr>\n",
              "    <tr>\n",
              "      <th>4</th>\n",
              "      <td>Hudson Valley</td>\n",
              "      <td>Westchester</td>\n",
              "      <td>5903001</td>\n",
              "      <td>1061</td>\n",
              "      <td>Montefiore Mount Vernon Hospital</td>\n",
              "      <td>18 to 29</td>\n",
              "      <td>F</td>\n",
              "      <td>White</td>\n",
              "      <td>Spanish/Hispanic</td>\n",
              "      <td>4</td>\n",
              "      <td>Emergency</td>\n",
              "      <td>Court/Law Enforcement</td>\n",
              "      <td>2017</td>\n",
              "      <td>2</td>\n",
              "      <td>Septicemia (except in labor)</td>\n",
              "      <td>0</td>\n",
              "      <td>NO PROC</td>\n",
              "      <td>720</td>\n",
              "      <td>Septicemia &amp; disseminated infections</td>\n",
              "      <td>18</td>\n",
              "      <td>Infectious and Parasitic Diseases, Systemic or...</td>\n",
              "      <td>2</td>\n",
              "      <td>Moderate</td>\n",
              "      <td>Minor</td>\n",
              "      <td>Medical</td>\n",
              "      <td>Department of Corrections</td>\n",
              "      <td>Self-Pay</td>\n",
              "      <td>NaN</td>\n",
              "      <td>N</td>\n",
              "      <td>N</td>\n",
              "      <td>30534.00</td>\n",
              "      <td>11921.05</td>\n",
              "      <td>105</td>\n",
              "    </tr>\n",
              "    <tr>\n",
              "      <th>...</th>\n",
              "      <td>...</td>\n",
              "      <td>...</td>\n",
              "      <td>...</td>\n",
              "      <td>...</td>\n",
              "      <td>...</td>\n",
              "      <td>...</td>\n",
              "      <td>...</td>\n",
              "      <td>...</td>\n",
              "      <td>...</td>\n",
              "      <td>...</td>\n",
              "      <td>...</td>\n",
              "      <td>...</td>\n",
              "      <td>...</td>\n",
              "      <td>...</td>\n",
              "      <td>...</td>\n",
              "      <td>...</td>\n",
              "      <td>...</td>\n",
              "      <td>...</td>\n",
              "      <td>...</td>\n",
              "      <td>...</td>\n",
              "      <td>...</td>\n",
              "      <td>...</td>\n",
              "      <td>...</td>\n",
              "      <td>...</td>\n",
              "      <td>...</td>\n",
              "      <td>...</td>\n",
              "      <td>...</td>\n",
              "      <td>...</td>\n",
              "      <td>...</td>\n",
              "      <td>...</td>\n",
              "      <td>...</td>\n",
              "      <td>...</td>\n",
              "      <td>...</td>\n",
              "    </tr>\n",
              "    <tr>\n",
              "      <th>995</th>\n",
              "      <td>Hudson Valley</td>\n",
              "      <td>Westchester</td>\n",
              "      <td>5903001</td>\n",
              "      <td>1061</td>\n",
              "      <td>Montefiore Mount Vernon Hospital</td>\n",
              "      <td>50 to 69</td>\n",
              "      <td>M</td>\n",
              "      <td>Black/African American</td>\n",
              "      <td>Unknown</td>\n",
              "      <td>7</td>\n",
              "      <td>Emergency</td>\n",
              "      <td>Home or Self Care</td>\n",
              "      <td>2017</td>\n",
              "      <td>131</td>\n",
              "      <td>Respiratory failure; insufficiency; arrest (ad...</td>\n",
              "      <td>41</td>\n",
              "      <td>OT NON-OR THER PRC RESP</td>\n",
              "      <td>133</td>\n",
              "      <td>Respiratory Failure</td>\n",
              "      <td>4</td>\n",
              "      <td>Diseases and Disorders of the Respiratory System</td>\n",
              "      <td>3</td>\n",
              "      <td>Major</td>\n",
              "      <td>Major</td>\n",
              "      <td>Medical</td>\n",
              "      <td>Medicare</td>\n",
              "      <td>Medicare</td>\n",
              "      <td>Medicaid</td>\n",
              "      <td>N</td>\n",
              "      <td>Y</td>\n",
              "      <td>66111.95</td>\n",
              "      <td>24664.45</td>\n",
              "      <td>105</td>\n",
              "    </tr>\n",
              "    <tr>\n",
              "      <th>996</th>\n",
              "      <td>Hudson Valley</td>\n",
              "      <td>Westchester</td>\n",
              "      <td>5903001</td>\n",
              "      <td>1061</td>\n",
              "      <td>Montefiore Mount Vernon Hospital</td>\n",
              "      <td>50 to 69</td>\n",
              "      <td>F</td>\n",
              "      <td>Black/African American</td>\n",
              "      <td>Unknown</td>\n",
              "      <td>42</td>\n",
              "      <td>Emergency</td>\n",
              "      <td>Home or Self Care</td>\n",
              "      <td>2017</td>\n",
              "      <td>659</td>\n",
              "      <td>Schizophrenia and other psychotic disorders</td>\n",
              "      <td>0</td>\n",
              "      <td>NO PROC</td>\n",
              "      <td>750</td>\n",
              "      <td>Schizophrenia</td>\n",
              "      <td>19</td>\n",
              "      <td>Mental Diseases and Disorders</td>\n",
              "      <td>2</td>\n",
              "      <td>Moderate</td>\n",
              "      <td>Minor</td>\n",
              "      <td>Medical</td>\n",
              "      <td>Medicaid</td>\n",
              "      <td>Medicare</td>\n",
              "      <td>Medicaid</td>\n",
              "      <td>N</td>\n",
              "      <td>Y</td>\n",
              "      <td>233710.13</td>\n",
              "      <td>82580.16</td>\n",
              "      <td>105</td>\n",
              "    </tr>\n",
              "    <tr>\n",
              "      <th>997</th>\n",
              "      <td>Hudson Valley</td>\n",
              "      <td>Westchester</td>\n",
              "      <td>5903001</td>\n",
              "      <td>1061</td>\n",
              "      <td>Montefiore Mount Vernon Hospital</td>\n",
              "      <td>70 or Older</td>\n",
              "      <td>M</td>\n",
              "      <td>White</td>\n",
              "      <td>Not Span/Hispanic</td>\n",
              "      <td>4</td>\n",
              "      <td>Elective</td>\n",
              "      <td>Home or Self Care</td>\n",
              "      <td>2017</td>\n",
              "      <td>146</td>\n",
              "      <td>Diverticulosis and diverticulitis</td>\n",
              "      <td>96</td>\n",
              "      <td>OT OR LOW GI THER PRCS</td>\n",
              "      <td>221</td>\n",
              "      <td>Major small &amp; large bowel procedures</td>\n",
              "      <td>6</td>\n",
              "      <td>Diseases and Disorders of the Digestive System</td>\n",
              "      <td>1</td>\n",
              "      <td>Minor</td>\n",
              "      <td>Minor</td>\n",
              "      <td>Surgical</td>\n",
              "      <td>Medicare</td>\n",
              "      <td>Medicare</td>\n",
              "      <td>Medicaid</td>\n",
              "      <td>N</td>\n",
              "      <td>N</td>\n",
              "      <td>52362.80</td>\n",
              "      <td>19794.77</td>\n",
              "      <td>107</td>\n",
              "    </tr>\n",
              "    <tr>\n",
              "      <th>998</th>\n",
              "      <td>Hudson Valley</td>\n",
              "      <td>Westchester</td>\n",
              "      <td>5903001</td>\n",
              "      <td>1061</td>\n",
              "      <td>Montefiore Mount Vernon Hospital</td>\n",
              "      <td>50 to 69</td>\n",
              "      <td>M</td>\n",
              "      <td>Other Race</td>\n",
              "      <td>Unknown</td>\n",
              "      <td>3</td>\n",
              "      <td>Emergency</td>\n",
              "      <td>Home or Self Care</td>\n",
              "      <td>2017</td>\n",
              "      <td>134</td>\n",
              "      <td>Other upper respiratory disease</td>\n",
              "      <td>93</td>\n",
              "      <td>OT NON-OR UP GI THER PR</td>\n",
              "      <td>143</td>\n",
              "      <td>Other respiratory diagnoses except signs, symp...</td>\n",
              "      <td>4</td>\n",
              "      <td>Diseases and Disorders of the Respiratory System</td>\n",
              "      <td>4</td>\n",
              "      <td>Extreme</td>\n",
              "      <td>Moderate</td>\n",
              "      <td>Medical</td>\n",
              "      <td>Blue Cross/Blue Shield</td>\n",
              "      <td>Medicare</td>\n",
              "      <td>Medicare</td>\n",
              "      <td>N</td>\n",
              "      <td>N</td>\n",
              "      <td>35820.00</td>\n",
              "      <td>14335.34</td>\n",
              "      <td>105</td>\n",
              "    </tr>\n",
              "    <tr>\n",
              "      <th>999</th>\n",
              "      <td>Hudson Valley</td>\n",
              "      <td>Westchester</td>\n",
              "      <td>5903001</td>\n",
              "      <td>1061</td>\n",
              "      <td>Montefiore Mount Vernon Hospital</td>\n",
              "      <td>30 to 49</td>\n",
              "      <td>F</td>\n",
              "      <td>White</td>\n",
              "      <td>Unknown</td>\n",
              "      <td>2</td>\n",
              "      <td>Emergency</td>\n",
              "      <td>Home or Self Care</td>\n",
              "      <td>2017</td>\n",
              "      <td>657</td>\n",
              "      <td>Mood disorders</td>\n",
              "      <td>0</td>\n",
              "      <td>NO PROC</td>\n",
              "      <td>753</td>\n",
              "      <td>Bipolar disorders</td>\n",
              "      <td>19</td>\n",
              "      <td>Mental Diseases and Disorders</td>\n",
              "      <td>1</td>\n",
              "      <td>Minor</td>\n",
              "      <td>Minor</td>\n",
              "      <td>Medical</td>\n",
              "      <td>Medicaid</td>\n",
              "      <td>Medicaid</td>\n",
              "      <td>Self-Pay</td>\n",
              "      <td>N</td>\n",
              "      <td>Y</td>\n",
              "      <td>15563.18</td>\n",
              "      <td>5848.79</td>\n",
              "      <td>104</td>\n",
              "    </tr>\n",
              "  </tbody>\n",
              "</table>\n",
              "<p>1000 rows × 33 columns</p>\n",
              "</div>"
            ],
            "text/plain": [
              "    hospital_service_area hospital_county  ...  total_costs  zip_code_3_digits\n",
              "0           Hudson Valley     Westchester  ...     40464.04                NaN\n",
              "1           Hudson Valley     Westchester  ...     26046.50                105\n",
              "2           Hudson Valley     Westchester  ...     17397.59                105\n",
              "3           Hudson Valley     Westchester  ...     16118.84                105\n",
              "4           Hudson Valley     Westchester  ...     11921.05                105\n",
              "..                    ...             ...  ...          ...                ...\n",
              "995         Hudson Valley     Westchester  ...     24664.45                105\n",
              "996         Hudson Valley     Westchester  ...     82580.16                105\n",
              "997         Hudson Valley     Westchester  ...     19794.77                107\n",
              "998         Hudson Valley     Westchester  ...     14335.34                105\n",
              "999         Hudson Valley     Westchester  ...      5848.79                104\n",
              "\n",
              "[1000 rows x 33 columns]"
            ]
          },
          "metadata": {
            "tags": []
          },
          "execution_count": 9
        }
      ]
    },
    {
      "cell_type": "code",
      "metadata": {
        "id": "qVq_2Z6wtVdi",
        "colab_type": "code",
        "colab": {}
      },
      "source": [
        "first_record = df_dict[3]"
      ],
      "execution_count": 0,
      "outputs": []
    },
    {
      "cell_type": "code",
      "metadata": {
        "id": "pJtVuOq8B2pV",
        "colab_type": "code",
        "outputId": "2deba661-8f74-459c-f744-5d31835136ff",
        "colab": {
          "base_uri": "https://localhost:8080/",
          "height": 33
        }
      },
      "source": [
        "first_record['ccs_diagnosis_code']"
      ],
      "execution_count": 0,
      "outputs": [
        {
          "output_type": "execute_result",
          "data": {
            "text/plain": [
              "238"
            ]
          },
          "metadata": {
            "tags": []
          },
          "execution_count": 23
        }
      ]
    },
    {
      "cell_type": "code",
      "metadata": {
        "id": "yM48aKNgB_z8",
        "colab_type": "code",
        "colab": {}
      },
      "source": [
        "diagnostic_codes = [ record['ccs_diagnosis_code'] for record in records ]"
      ],
      "execution_count": 0,
      "outputs": []
    },
    {
      "cell_type": "code",
      "metadata": {
        "id": "VHUUsNWOChUy",
        "colab_type": "code",
        "colab": {}
      },
      "source": [
        "from collections import Counter"
      ],
      "execution_count": 0,
      "outputs": []
    },
    {
      "cell_type": "code",
      "metadata": {
        "id": "4x9RrfKoCbvQ",
        "colab_type": "code",
        "colab": {}
      },
      "source": [
        "diagnostic_histogram = Counter(diagnostic_codes)\n",
        "diagnostic_histogram\n"
      ],
      "execution_count": 0,
      "outputs": []
    },
    {
      "cell_type": "code",
      "metadata": {
        "id": "gevCuhvHDbAV",
        "colab_type": "code",
        "outputId": "de030d17-da44-4857-f744-3e78db1610f5",
        "colab": {
          "base_uri": "https://localhost:8080/",
          "height": 53
        }
      },
      "source": [
        "diagnostic_histogram.keys()"
      ],
      "execution_count": 0,
      "outputs": [
        {
          "output_type": "execute_result",
          "data": {
            "text/plain": [
              "dict_keys([659, 99, 161, 238, 2, 660, 102, 50, 245, 126, 657, 661, 16, 108, 127, 109, 83, 154, 203, 237, 84, 118, 106, 197, 205, 183, 59, 93, 258, 14, 57, 101, 45, 151, 164, 117, 123, 96, 113, 153, 112, 18, 122, 145, 128, 11, 230, 46, 155, 129, 251, 55, 143, 157, 653, 61, 159, 115, 146, 142, 144, 95, 259, 100, 82, 247, 7, 152, 120, 79, 131, 42, 47, 48, 148, 116, 49, 244, 121, 169, 147, 5, 140, 168, 650, 175, 114, 167, 252, 171, 125, 163, 239, 104, 27, 135, 51, 89, 138, 243, 200, 133, 94, 226, 63, 201, 103, 229, 662, 204, 211, 166, 119, 165, 248, 170, 162, 198, 199, 149, 181, 173, 141, 208, 32, 58, 253, 232, 60, 139, 655, 137, 134])"
            ]
          },
          "metadata": {
            "tags": []
          },
          "execution_count": 40
        }
      ]
    },
    {
      "cell_type": "code",
      "metadata": {
        "id": "xvMVfh9JC1nK",
        "colab_type": "code",
        "colab": {}
      },
      "source": [
        "import plotly.graph_objects as go"
      ],
      "execution_count": 0,
      "outputs": []
    },
    {
      "cell_type": "code",
      "metadata": {
        "id": "Ryc8_zXdC77_",
        "colab_type": "code",
        "outputId": "4a3ff048-e131-4ba0-8f21-0bbe875667d7",
        "colab": {
          "base_uri": "https://localhost:8080/",
          "height": 542
        }
      },
      "source": [
        "+trace = go.Bar(x = list(diagnostic_histogram.keys()), y = list(diagnostic_histogram.values()) )\n",
        "go.Figure(trace)"
      ],
      "execution_count": 0,
      "outputs": [
        {
          "output_type": "display_data",
          "data": {
            "text/html": [
              "<html>\n",
              "<head><meta charset=\"utf-8\" /></head>\n",
              "<body>\n",
              "    <div>\n",
              "            <script src=\"https://cdnjs.cloudflare.com/ajax/libs/mathjax/2.7.5/MathJax.js?config=TeX-AMS-MML_SVG\"></script><script type=\"text/javascript\">if (window.MathJax) {MathJax.Hub.Config({SVG: {font: \"STIX-Web\"}});}</script>\n",
              "                <script type=\"text/javascript\">window.PlotlyConfig = {MathJaxConfig: 'local'};</script>\n",
              "        <script src=\"https://cdn.plot.ly/plotly-latest.min.js\"></script>    \n",
              "            <div id=\"4a99a4b8-c567-4b93-9ca9-0579093327b1\" class=\"plotly-graph-div\" style=\"height:525px; width:100%;\"></div>\n",
              "            <script type=\"text/javascript\">\n",
              "                \n",
              "                    window.PLOTLYENV=window.PLOTLYENV || {};\n",
              "                    \n",
              "                if (document.getElementById(\"4a99a4b8-c567-4b93-9ca9-0579093327b1\")) {\n",
              "                    Plotly.newPlot(\n",
              "                        '4a99a4b8-c567-4b93-9ca9-0579093327b1',\n",
              "                        [{\"type\": \"bar\", \"x\": [659, 99, 161, 238, 2, 660, 102, 50, 245, 126, 657, 661, 16, 108, 127, 109, 83, 154, 203, 237, 84, 118, 106, 197, 205, 183, 59, 93, 258, 14, 57, 101, 45, 151, 164, 117, 123, 96, 113, 153, 112, 18, 122, 145, 128, 11, 230, 46, 155, 129, 251, 55, 143, 157, 653, 61, 159, 115, 146, 142, 144, 95, 259, 100, 82, 247, 7, 152, 120, 79, 131, 42, 47, 48, 148, 116, 49, 244, 121, 169, 147, 5, 140, 168, 650, 175, 114, 167, 252, 171, 125, 163, 239, 104, 27, 135, 51, 89, 138, 243, 200, 133, 94, 226, 63, 201, 103, 229, 662, 204, 211, 166, 119, 165, 248, 170, 162, 198, 199, 149, 181, 173, 141, 208, 32, 58, 253, 232, 60, 139, 655, 137, 134], \"y\": [67, 61, 8, 7, 50, 13, 42, 48, 32, 4, 57, 12, 1, 2, 32, 17, 11, 12, 10, 11, 2, 7, 30, 18, 7, 1, 7, 6, 4, 1, 2, 6, 12, 4, 3, 13, 2, 1, 3, 16, 10, 1, 15, 11, 13, 1, 3, 12, 9, 3, 4, 19, 8, 15, 13, 17, 10, 1, 9, 6, 2, 7, 9, 4, 2, 1, 3, 4, 1, 3, 7, 2, 2, 1, 1, 1, 2, 17, 3, 1, 2, 5, 4, 1, 2, 1, 3, 1, 4, 3, 1, 2, 1, 1, 1, 5, 2, 1, 5, 1, 1, 3, 1, 2, 2, 1, 4, 1, 1, 1, 6, 4, 2, 1, 3, 1, 1, 3, 2, 3, 2, 1, 1, 1, 2, 2, 1, 1, 1, 1, 1, 1, 1]}],\n",
              "                        {\"template\": {\"data\": {\"bar\": [{\"error_x\": {\"color\": \"#2a3f5f\"}, \"error_y\": {\"color\": \"#2a3f5f\"}, \"marker\": {\"line\": {\"color\": \"#E5ECF6\", \"width\": 0.5}}, \"type\": \"bar\"}], \"barpolar\": [{\"marker\": {\"line\": {\"color\": \"#E5ECF6\", \"width\": 0.5}}, \"type\": \"barpolar\"}], \"carpet\": [{\"aaxis\": {\"endlinecolor\": \"#2a3f5f\", \"gridcolor\": \"white\", \"linecolor\": \"white\", \"minorgridcolor\": \"white\", \"startlinecolor\": \"#2a3f5f\"}, \"baxis\": {\"endlinecolor\": \"#2a3f5f\", \"gridcolor\": \"white\", \"linecolor\": \"white\", \"minorgridcolor\": \"white\", \"startlinecolor\": \"#2a3f5f\"}, \"type\": \"carpet\"}], \"choropleth\": [{\"colorbar\": {\"outlinewidth\": 0, \"ticks\": \"\"}, \"type\": \"choropleth\"}], \"contour\": [{\"colorbar\": {\"outlinewidth\": 0, \"ticks\": \"\"}, \"colorscale\": [[0.0, \"#0d0887\"], [0.1111111111111111, \"#46039f\"], [0.2222222222222222, \"#7201a8\"], [0.3333333333333333, \"#9c179e\"], [0.4444444444444444, \"#bd3786\"], [0.5555555555555556, \"#d8576b\"], [0.6666666666666666, \"#ed7953\"], [0.7777777777777778, \"#fb9f3a\"], [0.8888888888888888, \"#fdca26\"], [1.0, \"#f0f921\"]], \"type\": \"contour\"}], \"contourcarpet\": [{\"colorbar\": {\"outlinewidth\": 0, \"ticks\": \"\"}, \"type\": \"contourcarpet\"}], \"heatmap\": [{\"colorbar\": {\"outlinewidth\": 0, \"ticks\": \"\"}, \"colorscale\": [[0.0, \"#0d0887\"], [0.1111111111111111, \"#46039f\"], [0.2222222222222222, \"#7201a8\"], [0.3333333333333333, \"#9c179e\"], [0.4444444444444444, \"#bd3786\"], [0.5555555555555556, \"#d8576b\"], [0.6666666666666666, \"#ed7953\"], [0.7777777777777778, \"#fb9f3a\"], [0.8888888888888888, \"#fdca26\"], [1.0, \"#f0f921\"]], \"type\": \"heatmap\"}], \"heatmapgl\": [{\"colorbar\": {\"outlinewidth\": 0, \"ticks\": \"\"}, \"colorscale\": [[0.0, \"#0d0887\"], [0.1111111111111111, \"#46039f\"], [0.2222222222222222, \"#7201a8\"], [0.3333333333333333, \"#9c179e\"], [0.4444444444444444, \"#bd3786\"], [0.5555555555555556, \"#d8576b\"], [0.6666666666666666, \"#ed7953\"], [0.7777777777777778, \"#fb9f3a\"], [0.8888888888888888, \"#fdca26\"], [1.0, \"#f0f921\"]], \"type\": \"heatmapgl\"}], \"histogram\": [{\"marker\": {\"colorbar\": {\"outlinewidth\": 0, \"ticks\": \"\"}}, \"type\": \"histogram\"}], \"histogram2d\": [{\"colorbar\": {\"outlinewidth\": 0, \"ticks\": \"\"}, \"colorscale\": [[0.0, \"#0d0887\"], [0.1111111111111111, \"#46039f\"], [0.2222222222222222, \"#7201a8\"], [0.3333333333333333, \"#9c179e\"], [0.4444444444444444, \"#bd3786\"], [0.5555555555555556, \"#d8576b\"], [0.6666666666666666, \"#ed7953\"], [0.7777777777777778, \"#fb9f3a\"], [0.8888888888888888, \"#fdca26\"], [1.0, \"#f0f921\"]], \"type\": \"histogram2d\"}], \"histogram2dcontour\": [{\"colorbar\": {\"outlinewidth\": 0, \"ticks\": \"\"}, \"colorscale\": [[0.0, \"#0d0887\"], [0.1111111111111111, \"#46039f\"], [0.2222222222222222, \"#7201a8\"], [0.3333333333333333, \"#9c179e\"], [0.4444444444444444, \"#bd3786\"], [0.5555555555555556, \"#d8576b\"], [0.6666666666666666, \"#ed7953\"], [0.7777777777777778, \"#fb9f3a\"], [0.8888888888888888, \"#fdca26\"], [1.0, \"#f0f921\"]], \"type\": \"histogram2dcontour\"}], \"mesh3d\": [{\"colorbar\": {\"outlinewidth\": 0, \"ticks\": \"\"}, \"type\": \"mesh3d\"}], \"parcoords\": [{\"line\": {\"colorbar\": {\"outlinewidth\": 0, \"ticks\": \"\"}}, \"type\": \"parcoords\"}], \"pie\": [{\"automargin\": true, \"type\": \"pie\"}], \"scatter\": [{\"marker\": {\"colorbar\": {\"outlinewidth\": 0, \"ticks\": \"\"}}, \"type\": \"scatter\"}], \"scatter3d\": [{\"line\": {\"colorbar\": {\"outlinewidth\": 0, \"ticks\": \"\"}}, \"marker\": {\"colorbar\": {\"outlinewidth\": 0, \"ticks\": \"\"}}, \"type\": \"scatter3d\"}], \"scattercarpet\": [{\"marker\": {\"colorbar\": {\"outlinewidth\": 0, \"ticks\": \"\"}}, \"type\": \"scattercarpet\"}], \"scattergeo\": [{\"marker\": {\"colorbar\": {\"outlinewidth\": 0, \"ticks\": \"\"}}, \"type\": \"scattergeo\"}], \"scattergl\": [{\"marker\": {\"colorbar\": {\"outlinewidth\": 0, \"ticks\": \"\"}}, \"type\": \"scattergl\"}], \"scattermapbox\": [{\"marker\": {\"colorbar\": {\"outlinewidth\": 0, \"ticks\": \"\"}}, \"type\": \"scattermapbox\"}], \"scatterpolar\": [{\"marker\": {\"colorbar\": {\"outlinewidth\": 0, \"ticks\": \"\"}}, \"type\": \"scatterpolar\"}], \"scatterpolargl\": [{\"marker\": {\"colorbar\": {\"outlinewidth\": 0, \"ticks\": \"\"}}, \"type\": \"scatterpolargl\"}], \"scatterternary\": [{\"marker\": {\"colorbar\": {\"outlinewidth\": 0, \"ticks\": \"\"}}, \"type\": \"scatterternary\"}], \"surface\": [{\"colorbar\": {\"outlinewidth\": 0, \"ticks\": \"\"}, \"colorscale\": [[0.0, \"#0d0887\"], [0.1111111111111111, \"#46039f\"], [0.2222222222222222, \"#7201a8\"], [0.3333333333333333, \"#9c179e\"], [0.4444444444444444, \"#bd3786\"], [0.5555555555555556, \"#d8576b\"], [0.6666666666666666, \"#ed7953\"], [0.7777777777777778, \"#fb9f3a\"], [0.8888888888888888, \"#fdca26\"], [1.0, \"#f0f921\"]], \"type\": \"surface\"}], \"table\": [{\"cells\": {\"fill\": {\"color\": \"#EBF0F8\"}, \"line\": {\"color\": \"white\"}}, \"header\": {\"fill\": {\"color\": \"#C8D4E3\"}, \"line\": {\"color\": \"white\"}}, \"type\": \"table\"}]}, \"layout\": {\"annotationdefaults\": {\"arrowcolor\": \"#2a3f5f\", \"arrowhead\": 0, \"arrowwidth\": 1}, \"coloraxis\": {\"colorbar\": {\"outlinewidth\": 0, \"ticks\": \"\"}}, \"colorscale\": {\"diverging\": [[0, \"#8e0152\"], [0.1, \"#c51b7d\"], [0.2, \"#de77ae\"], [0.3, \"#f1b6da\"], [0.4, \"#fde0ef\"], [0.5, \"#f7f7f7\"], [0.6, \"#e6f5d0\"], [0.7, \"#b8e186\"], [0.8, \"#7fbc41\"], [0.9, \"#4d9221\"], [1, \"#276419\"]], \"sequential\": [[0.0, \"#0d0887\"], [0.1111111111111111, \"#46039f\"], [0.2222222222222222, \"#7201a8\"], [0.3333333333333333, \"#9c179e\"], [0.4444444444444444, \"#bd3786\"], [0.5555555555555556, \"#d8576b\"], [0.6666666666666666, \"#ed7953\"], [0.7777777777777778, \"#fb9f3a\"], [0.8888888888888888, \"#fdca26\"], [1.0, \"#f0f921\"]], \"sequentialminus\": [[0.0, \"#0d0887\"], [0.1111111111111111, \"#46039f\"], [0.2222222222222222, \"#7201a8\"], [0.3333333333333333, \"#9c179e\"], [0.4444444444444444, \"#bd3786\"], [0.5555555555555556, \"#d8576b\"], [0.6666666666666666, \"#ed7953\"], [0.7777777777777778, \"#fb9f3a\"], [0.8888888888888888, \"#fdca26\"], [1.0, \"#f0f921\"]]}, \"colorway\": [\"#636efa\", \"#EF553B\", \"#00cc96\", \"#ab63fa\", \"#FFA15A\", \"#19d3f3\", \"#FF6692\", \"#B6E880\", \"#FF97FF\", \"#FECB52\"], \"font\": {\"color\": \"#2a3f5f\"}, \"geo\": {\"bgcolor\": \"white\", \"lakecolor\": \"white\", \"landcolor\": \"#E5ECF6\", \"showlakes\": true, \"showland\": true, \"subunitcolor\": \"white\"}, \"hoverlabel\": {\"align\": \"left\"}, \"hovermode\": \"closest\", \"mapbox\": {\"style\": \"light\"}, \"paper_bgcolor\": \"white\", \"plot_bgcolor\": \"#E5ECF6\", \"polar\": {\"angularaxis\": {\"gridcolor\": \"white\", \"linecolor\": \"white\", \"ticks\": \"\"}, \"bgcolor\": \"#E5ECF6\", \"radialaxis\": {\"gridcolor\": \"white\", \"linecolor\": \"white\", \"ticks\": \"\"}}, \"scene\": {\"xaxis\": {\"backgroundcolor\": \"#E5ECF6\", \"gridcolor\": \"white\", \"gridwidth\": 2, \"linecolor\": \"white\", \"showbackground\": true, \"ticks\": \"\", \"zerolinecolor\": \"white\"}, \"yaxis\": {\"backgroundcolor\": \"#E5ECF6\", \"gridcolor\": \"white\", \"gridwidth\": 2, \"linecolor\": \"white\", \"showbackground\": true, \"ticks\": \"\", \"zerolinecolor\": \"white\"}, \"zaxis\": {\"backgroundcolor\": \"#E5ECF6\", \"gridcolor\": \"white\", \"gridwidth\": 2, \"linecolor\": \"white\", \"showbackground\": true, \"ticks\": \"\", \"zerolinecolor\": \"white\"}}, \"shapedefaults\": {\"line\": {\"color\": \"#2a3f5f\"}}, \"ternary\": {\"aaxis\": {\"gridcolor\": \"white\", \"linecolor\": \"white\", \"ticks\": \"\"}, \"baxis\": {\"gridcolor\": \"white\", \"linecolor\": \"white\", \"ticks\": \"\"}, \"bgcolor\": \"#E5ECF6\", \"caxis\": {\"gridcolor\": \"white\", \"linecolor\": \"white\", \"ticks\": \"\"}}, \"title\": {\"x\": 0.05}, \"xaxis\": {\"automargin\": true, \"gridcolor\": \"white\", \"linecolor\": \"white\", \"ticks\": \"\", \"title\": {\"standoff\": 15}, \"zerolinecolor\": \"white\", \"zerolinewidth\": 2}, \"yaxis\": {\"automargin\": true, \"gridcolor\": \"white\", \"linecolor\": \"white\", \"ticks\": \"\", \"title\": {\"standoff\": 15}, \"zerolinecolor\": \"white\", \"zerolinewidth\": 2}}}},\n",
              "                        {\"responsive\": true}\n",
              "                    ).then(function(){\n",
              "                            \n",
              "var gd = document.getElementById('4a99a4b8-c567-4b93-9ca9-0579093327b1');\n",
              "var x = new MutationObserver(function (mutations, observer) {{\n",
              "        var display = window.getComputedStyle(gd).display;\n",
              "        if (!display || display === 'none') {{\n",
              "            console.log([gd, 'removed!']);\n",
              "            Plotly.purge(gd);\n",
              "            observer.disconnect();\n",
              "        }}\n",
              "}});\n",
              "\n",
              "// Listen for the removal of the full notebook cells\n",
              "var notebookContainer = gd.closest('#notebook-container');\n",
              "if (notebookContainer) {{\n",
              "    x.observe(notebookContainer, {childList: true});\n",
              "}}\n",
              "\n",
              "// Listen for the clearing of the current output cell\n",
              "var outputEl = gd.closest('.output');\n",
              "if (outputEl) {{\n",
              "    x.observe(outputEl, {childList: true});\n",
              "}}\n",
              "\n",
              "                        })\n",
              "                };\n",
              "                \n",
              "            </script>\n",
              "        </div>\n",
              "</body>\n",
              "</html>"
            ]
          },
          "metadata": {
            "tags": []
          }
        }
      ]
    },
    {
      "cell_type": "code",
      "metadata": {
        "id": "4dgnB1ZboyXo",
        "colab_type": "code",
        "colab": {}
      },
      "source": [
        ""
      ],
      "execution_count": 0,
      "outputs": []
    },
    {
      "cell_type": "code",
      "metadata": {
        "id": "GahNlMFoC7Bn",
        "colab_type": "code",
        "colab": {}
      },
      "source": [
        ""
      ],
      "execution_count": 0,
      "outputs": []
    },
    {
      "cell_type": "code",
      "metadata": {
        "id": "ngmnX1YBB-lY",
        "colab_type": "code",
        "colab": {}
      },
      "source": [
        ""
      ],
      "execution_count": 0,
      "outputs": []
    },
    {
      "cell_type": "code",
      "metadata": {
        "id": "lt81NCdcoycV",
        "colab_type": "code",
        "outputId": "ce6a6797-d518-4df7-f2b3-fb55c458275b",
        "colab": {
          "base_uri": "https://localhost:8080/",
          "height": 33
        }
      },
      "source": [
        "top_dig_codes"
      ],
      "execution_count": 0,
      "outputs": [
        {
          "output_type": "execute_result",
          "data": {
            "text/plain": [
              "<function __main__.top_dig_codes>"
            ]
          },
          "metadata": {
            "tags": []
          },
          "execution_count": 13
        }
      ]
    },
    {
      "cell_type": "code",
      "metadata": {
        "id": "Zv4zDQlIundP",
        "colab_type": "code",
        "colab": {}
      },
      "source": [
        "import sqlite3 as sql"
      ],
      "execution_count": 0,
      "outputs": []
    },
    {
      "cell_type": "code",
      "metadata": {
        "id": "5gyNfWJ-uz1U",
        "colab_type": "code",
        "colab": {}
      },
      "source": [
        "conn = sql.connect('MVH_database.db')\n",
        "c = conn.cursor()"
      ],
      "execution_count": 0,
      "outputs": []
    },
    {
      "cell_type": "code",
      "metadata": {
        "id": "E_37e-u6u0HO",
        "colab_type": "code",
        "outputId": "9a924303-e30a-4e0a-ff44-f977ed6404af",
        "colab": {
          "base_uri": "https://localhost:8080/",
          "height": 126
        }
      },
      "source": [
        "df to sql"
      ],
      "execution_count": 0,
      "outputs": [
        {
          "output_type": "error",
          "ename": "SyntaxError",
          "evalue": "ignored",
          "traceback": [
            "\u001b[0;36m  File \u001b[0;32m\"<ipython-input-19-4c764c6ad199>\"\u001b[0;36m, line \u001b[0;32m1\u001b[0m\n\u001b[0;31m    CREATE TABLE from df in MVH_database.db\u001b[0m\n\u001b[0m               ^\u001b[0m\n\u001b[0;31mSyntaxError\u001b[0m\u001b[0;31m:\u001b[0m invalid syntax\n"
          ]
        }
      ]
    },
    {
      "cell_type": "code",
      "metadata": {
        "id": "nQMJExTWu0QU",
        "colab_type": "code",
        "colab": {}
      },
      "source": [
        ""
      ],
      "execution_count": 0,
      "outputs": []
    }
  ]
}